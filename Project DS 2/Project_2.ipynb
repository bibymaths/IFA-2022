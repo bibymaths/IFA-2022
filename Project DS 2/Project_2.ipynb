{
 "cells": [
  {
   "cell_type": "code",
   "execution_count": 1,
   "metadata": {},
   "outputs": [],
   "source": [
    "# I followed the steps in https://towardsdatascience.com/tensorflow-2-0-create-and-train-a-vanilla-cnn-on-google-colab-c7a0ac86d61b\n",
    "\n"
   ]
  },
  {
   "cell_type": "code",
   "execution_count": 2,
   "metadata": {},
   "outputs": [],
   "source": [
    "from PIL import Image\n",
    "import numpy as np\n",
    "import os\n",
    "\n",
    "train_images = []\n",
    "train_labels = []\n",
    "\n",
    "# notebook has to be in folder 'mkfold' that contains all 5 folds created by the mkfold.py script\n",
    "dir = 'fold2/train/400X/'\n",
    "\n",
    "for img_path in os.listdir(dir):\n",
    "    \n",
    "    im = Image.open(dir+str(img_path))\n",
    "    im = im.resize((200,200))\n",
    "    train_images.append(np.array(im))\n",
    "   \n",
    "    # benign gets label 'False' and Malignant gets label 'True'\n",
    "    train_labels.append(img_path[4]!='B')\n",
    "    \n",
    "test_images = []\n",
    "test_labels = []\n",
    "\n",
    "# notebook has to be in folder 'mkfold' that contains all 5 folds created by the mkfold.py script\n",
    "\n",
    "dir = 'fold2/test/400X/'\n",
    "\n",
    "for img_path in os.listdir(dir):\n",
    "    \n",
    "    im = Image.open(dir+str(img_path))\n",
    "    im = im.resize((200,200))\n",
    "    test_images.append(np.array(im))   \n",
    "    test_labels.append(img_path[4]!= 'B')\n",
    " \n"
   ]
  },
  {
   "cell_type": "code",
   "execution_count": 3,
   "metadata": {},
   "outputs": [
    {
     "name": "stdout",
     "output_type": "stream",
     "text": [
      "<class 'numpy.ndarray'>\n",
      "(1266, 200, 200, 3)\n",
      "\n",
      "<class 'numpy.ndarray'>\n",
      "(554, 200, 200, 3)\n"
     ]
    }
   ],
   "source": [
    "train_images = np.array(train_images)\n",
    "train_labels = np.reshape(train_labels, (-1,1))\n",
    "test_images = np.array(test_images)\n",
    "\n",
    "print(type(train_images))\n",
    "print(train_images.shape)\n",
    "#print(train_images[0])\n",
    "print()\n",
    "print(type(test_images))\n",
    "print(test_images.shape)\n",
    "#print(test_images[0])"
   ]
  },
  {
   "cell_type": "code",
   "execution_count": 4,
   "metadata": {
    "scrolled": true
   },
   "outputs": [],
   "source": [
    "from sklearn.preprocessing import OneHotEncoder\n",
    "\n",
    "enc = OneHotEncoder(categories='auto')\n",
    "train_labels = enc.fit_transform(train_labels).toarray()"
   ]
  },
  {
   "cell_type": "code",
   "execution_count": 5,
   "metadata": {},
   "outputs": [],
   "source": [
    "train_images = train_images / 255.0\n",
    "test_images = test_images / 255.0\n"
   ]
  },
  {
   "cell_type": "code",
   "execution_count": 6,
   "metadata": {},
   "outputs": [],
   "source": [
    "import tensorflow as tf\n",
    "tf.__version__\n",
    "\n",
    "from tensorflow.keras.layers import Conv2D, MaxPooling2D, Flatten, Dense, Dropout\n",
    "from tensorflow.keras import Model\n",
    "\n",
    "train_ds = tf.data.Dataset.from_tensor_slices((train_images, train_labels)).shuffle(len(train_images)).batch(32)"
   ]
  },
  {
   "cell_type": "code",
   "execution_count": 7,
   "metadata": {},
   "outputs": [],
   "source": [
    "class CNN(Model):\n",
    "    def __init__(self):\n",
    "        super(CNN, self).__init__()\n",
    "        self.conv1 = Conv2D(32, 3, padding='same', activation = 'relu')\n",
    "        self.pool1 = MaxPooling2D((2,2))\n",
    "        self.conv2 = Conv2D(64, 3, padding='same', activation='relu')\n",
    "        self.pool2 = MaxPooling2D((2,2))\n",
    "        self.flatten = Flatten()\n",
    "        self.d1 = Dense(512, activation='relu')\n",
    "        self.dropout1 = Dropout(0.4)\n",
    "        self.d2 = Dense(128, activation ='relu')\n",
    "        self.dropout2 = Dropout(0.4)\n",
    "        self.d3 = Dense(43, activation='relu')\n",
    "        # added final layer with 2 nodes to match the label shape\n",
    "        self.d4 = Dense(2, activation= 'softmax')\n",
    "    \n",
    "    def call(self,x):\n",
    "        x = self.conv1(x)\n",
    "        x = self.pool1(x)\n",
    "        x = self.conv2(x)\n",
    "        x = self.pool2(x)\n",
    "        x = self.flatten(x)\n",
    "        x = self.d1(x)\n",
    "        x = self.dropout1(x)\n",
    "        x = self.d2(x)\n",
    "        x = self.dropout2(x)\n",
    "        x = self.d3(x)\n",
    "        x = self.d4(x)\n",
    "        return x\n",
    "    \n",
    "model = CNN()"
   ]
  },
  {
   "cell_type": "code",
   "execution_count": 8,
   "metadata": {},
   "outputs": [],
   "source": [
    "loss_object = tf.keras.losses.CategoricalCrossentropy()\n",
    "optimizer = tf.keras.optimizers.Adam()\n",
    "\n",
    "train_loss = tf.keras.metrics.Mean(name='train_loss')\n",
    "train_accuracy = tf.keras.metrics.CategoricalAccuracy(name='train_accuracy')"
   ]
  },
  {
   "cell_type": "code",
   "execution_count": 9,
   "metadata": {},
   "outputs": [],
   "source": [
    "@tf.function\n",
    "def train_step(images, labels):\n",
    "    with tf.GradientTape() as tape:\n",
    "        predictions = model(images)\n",
    "        loss = loss_object(labels, predictions)\n",
    "    gradients = tape.gradient(loss, model.trainable_variables)\n",
    "    optimizer.apply_gradients(zip(gradients, model.trainable_variables))\n",
    "    \n",
    "    train_loss(loss)\n",
    "    train_accuracy(labels, predictions)"
   ]
  },
  {
   "cell_type": "code",
   "execution_count": 10,
   "metadata": {},
   "outputs": [
    {
     "name": "stdout",
     "output_type": "stream",
     "text": [
      "Epoch: 1  Loss: tf.Tensor(1.3256378, shape=(), dtype=float32)  Accuracy: tf.Tensor(66.03476, shape=(), dtype=float32)\n",
      "Epoch: 2  Loss: tf.Tensor(0.51351035, shape=(), dtype=float32)  Accuracy: tf.Tensor(79.38389, shape=(), dtype=float32)\n",
      "Epoch: 3  Loss: tf.Tensor(0.44291812, shape=(), dtype=float32)  Accuracy: tf.Tensor(81.91154, shape=(), dtype=float32)\n",
      "Epoch: 4  Loss: tf.Tensor(0.47293633, shape=(), dtype=float32)  Accuracy: tf.Tensor(81.35861, shape=(), dtype=float32)\n",
      "Epoch: 5  Loss: tf.Tensor(0.4014379, shape=(), dtype=float32)  Accuracy: tf.Tensor(84.67615, shape=(), dtype=float32)\n"
     ]
    }
   ],
   "source": [
    "EPOCHS = 5\n",
    "for epoch in range(EPOCHS):\n",
    "    for images, labels in train_ds:\n",
    "        \n",
    "        train_step(images, labels)\n",
    "    # '.' vor /content war nötig    \n",
    "    model.save_weights('./content', save_format='tf')\n",
    "    \n",
    "    print('Epoch:', str(epoch+1), ' Loss:',str(train_loss.result()),' Accuracy:',str(train_accuracy.result()*100))\n",
    "    train_loss.reset_states()\n",
    "    train_accuracy.reset_states()"
   ]
  },
  {
   "cell_type": "code",
   "execution_count": 11,
   "metadata": {},
   "outputs": [],
   "source": [
    "predictions = np.argmax(model(test_images), axis=1)"
   ]
  },
  {
   "cell_type": "code",
   "execution_count": 28,
   "metadata": {},
   "outputs": [
    {
     "name": "stdout",
     "output_type": "stream",
     "text": [
      "Accuracy on test set:\n",
      "84.11552346570397\n"
     ]
    }
   ],
   "source": [
    "correct_predictions = predictions==test_labels\n",
    "accuracy = sum(correct_predictions) / len(correct)\n",
    "print('Accuracy on test set:')\n",
    "print(accuracy*100)"
   ]
  },
  {
   "cell_type": "code",
   "execution_count": null,
   "metadata": {},
   "outputs": [],
   "source": []
  }
 ],
 "metadata": {
  "kernelspec": {
   "display_name": "Python 3",
   "language": "python",
   "name": "python3"
  },
  "language_info": {
   "codemirror_mode": {
    "name": "ipython",
    "version": 3
   },
   "file_extension": ".py",
   "mimetype": "text/x-python",
   "name": "python",
   "nbconvert_exporter": "python",
   "pygments_lexer": "ipython3",
   "version": "3.8.3"
  }
 },
 "nbformat": 4,
 "nbformat_minor": 4
}
