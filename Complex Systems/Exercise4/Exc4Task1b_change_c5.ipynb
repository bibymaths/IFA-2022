{
  "cells": [
    {
      "cell_type": "code",
      "execution_count": 12,
      "id": "3a63c7e6",
      "metadata": {
        "id": "3a63c7e6"
      },
      "outputs": [],
      "source": [
        "# -*- coding: utf-8 -*-\n",
        "\"\"\"\n",
        "Created on Mon Dec 12 18:47:16 2022\n",
        "\n",
        "@author: Group 7\n",
        "\"\"\"\n",
        " \n",
        "\"\"\" \n",
        "Snippet from the previous task: START \n",
        "\"\"\"\n",
        "import numpy as np \n",
        "import pandas as pd \n",
        "import seaborn as sns \n",
        "import matplotlib.pyplot as plt\n",
        "from scipy.optimize import curve_fit \n",
        "from scipy.integrate import odeint\n",
        "  \n"
      ]
    },
    {
      "cell_type": "code",
      "execution_count": 13,
      "id": "0b128a3e",
      "metadata": {
        "id": "0b128a3e"
      },
      "outputs": [],
      "source": [
        "\n",
        "def ReactionRates(X,c2,c3,c4):  \n",
        "        R = np.zeros((6,1))\n",
        "        R[0] = k[0]\n",
        "        R[1] = k[1]*X[0]\n",
        "        R[2] = c2*X[0]*X[2]\n",
        "        R[3] = c3*X[1]\n",
        "        R[4] = c4*X[1]\n",
        "        R[5] = c5*X[2]\n",
        "        return R[:,0]   \n",
        " \n",
        "def ModelPrediction(t_data,c2,c3,c4): \n",
        "    y = odeint(RHS, X.flatten('K'), t_data,  \n",
        "               args = (c2,c3,c4), tfirst = True) \n",
        "    return y[:,2]\n",
        "  \n",
        "def RHS(t, X, c2, c3, c4):  \n",
        "    R = ReactionRates(X, c2, c3, c4)\n",
        "    dx = np.dot(np.transpose(s), R)\n",
        "    return dx.flatten('K')\n"
      ]
    },
    {
      "cell_type": "code",
      "execution_count": 14,
      "id": "728d477e",
      "metadata": {
        "id": "728d477e"
      },
      "outputs": [],
      "source": [
        "\n",
        "global s, k, X \n",
        "s = np.array([[1,0,0],[-1,0,0],[-1,1,-1], \n",
        "              [0,-1,0],[0,0,1],[0,0,-1]])\n",
        "k = [100, 0.1]\n",
        "c5 = 2\n",
        "#k2= 0.01, k3 = 1.0, k4 = 10, k5 = 2\n",
        "X = np.array([k[0]/k[1], 0, 20])\n",
        "t_data, y_data = np.load('Data.npy')   \n",
        "  \n",
        "\"\"\" \n",
        "Snippet from the previous task: END\n",
        "\"\"\"  \n",
        "c2_par = [] \n",
        "c3_par = [] \n",
        "c4_par = [] \n",
        " "
      ]
    },
    {
      "cell_type": "code",
      "execution_count": 15,
      "id": "b2a78441",
      "metadata": {
        "id": "b2a78441",
        "colab": {
          "base_uri": "https://localhost:8080/"
        },
        "outputId": "029d6261-1631-415f-f138-c98d13496a0b"
      },
      "outputs": [
        {
          "output_type": "stream",
          "name": "stdout",
          "text": [
            "[0.51800903 0.53008734 5.52054385]\n"
          ]
        },
        {
          "output_type": "stream",
          "name": "stderr",
          "text": [
            "/usr/local/lib/python3.8/dist-packages/scipy/integrate/odepack.py:247: ODEintWarning: Excess work done on this call (perhaps wrong Dfun type). Run with full_output = 1 to get quantitative information.\n",
            "  warnings.warn(warning_msg, ODEintWarning)\n"
          ]
        },
        {
          "output_type": "stream",
          "name": "stdout",
          "text": [
            "[1.01524739 0.4624078  4.06343515]\n",
            "[0.01862293 0.89985651 8.59402488]\n",
            "[0.01862328 0.89985135 8.59398007]\n",
            "[0.01862322 0.899853   8.5939947 ]\n",
            "[0.16717996 0.7326591  0.0300978 ]\n",
            "[0.01862326 0.89985193 8.59398506]\n",
            "[0.01862334 0.89984776 8.59395051]\n",
            "[0.01862317 0.89985382 8.59400217]\n",
            "[0.36820193 0.49824821 4.97900489]\n",
            "[0.50984562 0.59700848 5.73180116]\n",
            "[0.50831944 0.63653257 6.18288684]\n",
            "[0.4528506  0.58247151 5.70826519]\n",
            "[0.01862307 0.89985534 8.59401582]\n",
            "[0.01862327 0.89985163 8.5939823 ]\n",
            "[0.01862286 0.8998601  8.59405997]\n",
            "[0.52716885 0.56473099 5.72727688]\n",
            "[0.01862329 0.89985169 8.59398358]\n",
            "[0.01862323 0.899853   8.59399533]\n",
            "[0.01862329 0.89985115 8.59397796]\n",
            "[0.01862306 0.89985581 8.59401998]\n",
            "[0.01862317 0.89985388 8.59400375]\n",
            "[0.01862317 0.89985398 8.59400438]\n",
            "[0.01862327 0.89985199 8.59398596]\n",
            "[0.11727197 0.66463933 6.43835358]\n",
            "[0.19821058 0.64929315 6.31388786]\n",
            "[0.01862286 0.89985773 8.59403573]\n",
            "[0.84772759 0.4652817  4.32830481]\n",
            "[0.01862321 0.89985311 8.59399687]\n",
            "[1.38702237 0.26615285 2.07318911]\n"
          ]
        }
      ],
      "source": [
        "\n",
        "#################################\n",
        "# parameter estimation 30 times #  \n",
        "# with random start parameters  #\n",
        "################################# \n",
        "\n",
        "for i in range(30):\n",
        "    popt, pcov = curve_fit(ModelPrediction, t_data, \n",
        "                       y_data, bounds=(0,np.inf),\n",
        "                       p0 = np.random.rand(3))    \n",
        "     \n",
        "###########################################\n",
        "# Collect the inferred optimal parameters #  \n",
        "###########################################  \n",
        "    c2_par.append(popt[0]) \n",
        "    c3_par.append(popt[1])  \n",
        "    c4_par.append(popt[2])  \n",
        "    print(popt)\n",
        "  "
      ]
    },
    {
      "cell_type": "code",
      "source": [],
      "metadata": {
        "id": "6xHyQ7urbPE0"
      },
      "id": "6xHyQ7urbPE0",
      "execution_count": 15,
      "outputs": []
    },
    {
      "cell_type": "code",
      "source": [
        "# python 3.x\n",
        "import numpy as np\n",
        "from sklearn import preprocessing\n",
        "scaler = preprocessing.MinMaxScaler()\n",
        "normalized_c2 =scaler.fit_transform(np.array(c2_par).reshape(-1,1)).reshape(1,30)\n",
        "normalized_c3 =scaler.fit_transform(np.array(c3_par).reshape(-1,1)).reshape(1,30)\n",
        "normalized_c4 =scaler.fit_transform(np.array(c4_par).reshape(-1,1)).reshape(1,30)"
      ],
      "metadata": {
        "id": "JSLonNMJanKt"
      },
      "id": "JSLonNMJanKt",
      "execution_count": 16,
      "outputs": []
    },
    {
      "cell_type": "code",
      "source": [
        "opt = {'C2':c2_par,'C3':c3_par,'C4':c4_par}\n",
        "data = pd.DataFrame(opt) \n",
        "    \n",
        "sns.set_style('white')\n",
        "sns.boxplot(data=data, palette='flare')\n",
        "sns.despine()\n",
        "plt.show()"
      ],
      "metadata": {
        "colab": {
          "base_uri": "https://localhost:8080/",
          "height": 265
        },
        "id": "At2javk9q3AN",
        "outputId": "d3e8a2c9-5fd9-4444-e569-5a3a02a287be"
      },
      "id": "At2javk9q3AN",
      "execution_count": 17,
      "outputs": [
        {
          "output_type": "display_data",
          "data": {
            "text/plain": [
              "<Figure size 432x288 with 1 Axes>"
            ],
            "image/png": "[encoded data removed]"
          },
          "metadata": {}
        }
      ]
    },
    {
      "cell_type": "code",
      "execution_count": 18,
      "id": "894e2bee",
      "metadata": {
        "colab": {
          "base_uri": "https://localhost:8080/",
          "height": 265
        },
        "id": "894e2bee",
        "outputId": "277aba67-f9e0-41f1-d38c-03e2317ad338"
      },
      "outputs": [
        {
          "output_type": "display_data",
          "data": {
            "text/plain": [
              "<Figure size 432x288 with 1 Axes>"
            ],
            "image/png": "[encoded data removed]"
          },
          "metadata": {}
        }
      ],
      "source": [
        "opt = {'C2':normalized_c2[0],'C3':normalized_c3[0],'C4':normalized_c4[0]}\n",
        "data = pd.DataFrame(opt) \n",
        "    \n",
        "sns.set_style('white')\n",
        "sns.boxplot(data=data, palette='flare')\n",
        "sns.despine()\n",
        "plt.show()"
      ]
    },
    {
      "cell_type": "code",
      "execution_count": 19,
      "id": "2181b897",
      "metadata": {
        "colab": {
          "base_uri": "https://localhost:8080/",
          "height": 283
        },
        "id": "2181b897",
        "outputId": "cd5c0516-3d22-45f2-ce1e-74308a2e3cdc"
      },
      "outputs": [
        {
          "output_type": "execute_result",
          "data": {
            "text/plain": [
              "<matplotlib.axes._subplots.AxesSubplot at 0x7f6adc083f40>"
            ]
          },
          "metadata": {},
          "execution_count": 19
        },
        {
          "output_type": "display_data",
          "data": {
            "text/plain": [
              "<Figure size 432x288 with 1 Axes>"
            ],
            "image/png": "[encoded data removed]"
          },
          "metadata": {}
        }
      ],
      "source": [
        "import seaborn as sns\n",
        "sns.set_style('white')\n",
        "sns.kdeplot(data=data, palette='flare')"
      ]
    },
    {
      "cell_type": "code",
      "source": [],
      "metadata": {
        "id": "wNzUfuImmAkR"
      },
      "id": "wNzUfuImmAkR",
      "execution_count": 19,
      "outputs": []
    }
  ],
  "metadata": {
    "kernelspec": {
      "display_name": "Python 3 (ipykernel)",
      "language": "python",
      "name": "python3"
    },
    "language_info": {
      "codemirror_mode": {
        "name": "ipython",
        "version": 3
      },
      "file_extension": ".py",
      "mimetype": "text/x-python",
      "name": "python",
      "nbconvert_exporter": "python",
      "pygments_lexer": "ipython3",
      "version": "3.9.13"
    },
    "colab": {
      "provenance": []
    }
  },
  "nbformat": 4,
  "nbformat_minor": 5
}