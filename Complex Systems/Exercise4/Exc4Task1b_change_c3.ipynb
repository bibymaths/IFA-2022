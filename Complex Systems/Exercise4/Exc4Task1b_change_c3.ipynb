{
  "cells": [
    {
      "cell_type": "code",
      "execution_count": 4,
      "id": "3a63c7e6",
      "metadata": {
        "id": "3a63c7e6"
      },
      "outputs": [],
      "source": [
        "# -*- coding: utf-8 -*-\n",
        "\"\"\"\n",
        "Created on Mon Dec 12 18:47:16 2022\n",
        "\n",
        "@author: Group 7\n",
        "\"\"\"\n",
        " \n",
        "\"\"\" \n",
        "Snippet from the previous task: START \n",
        "\"\"\"\n",
        "import numpy as np \n",
        "import pandas as pd \n",
        "import seaborn as sns \n",
        "import matplotlib.pyplot as plt\n",
        "from scipy.optimize import curve_fit \n",
        "from scipy.integrate import odeint\n",
        "  \n"
      ]
    },
    {
      "cell_type": "code",
      "execution_count": 5,
      "id": "0b128a3e",
      "metadata": {
        "id": "0b128a3e"
      },
      "outputs": [],
      "source": [
        "\n",
        "def ReactionRates(X,c2,c4,c5):  \n",
        "        R = np.zeros((6,1))\n",
        "        R[0] = k[0]\n",
        "        R[1] = k[1]*X[0]\n",
        "        R[2] = c2*X[0]*X[2]\n",
        "        R[3] = c3*X[1]\n",
        "        R[4] = c4*X[1]\n",
        "        R[5] = c5*X[2]\n",
        "        return R[:,0]   \n",
        " \n",
        "def ModelPrediction(t_data,c3,c4,c5): \n",
        "    y = odeint(RHS, X.flatten('K'), t_data,  \n",
        "               args = (c3,c4,c5), tfirst = True) \n",
        "    return y[:,2]\n",
        "  \n",
        "def RHS(t, X, c3, c4, c5):  \n",
        "    R = ReactionRates(X, c3, c4, c5)\n",
        "    dx = np.dot(np.transpose(s), R)\n",
        "    return dx.flatten('K')\n"
      ]
    },
    {
      "cell_type": "code",
      "execution_count": 6,
      "id": "728d477e",
      "metadata": {
        "id": "728d477e"
      },
      "outputs": [],
      "source": [
        "\n",
        "global s, k, X \n",
        "s = np.array([[1,0,0],[-1,0,0],[-1,1,-1], \n",
        "              [0,-1,0],[0,0,1],[0,0,-1]])\n",
        "k = [100, 0.1]\n",
        "c3 = 1.0  \n",
        "#k2= 0.01, k3 = 1.0, k4 = 10, k5 = 2\n",
        "X = np.array([k[0]/k[1], 0, 20])\n",
        "t_data, y_data = np.load('Data.npy')   \n",
        "  \n",
        "\"\"\" \n",
        "Snippet from the previous task: END\n",
        "\"\"\"  \n",
        "c2_par = [] \n",
        "c4_par = [] \n",
        "c5_par = [] \n",
        " "
      ]
    },
    {
      "cell_type": "code",
      "execution_count": 7,
      "id": "b2a78441",
      "metadata": {
        "id": "b2a78441",
        "colab": {
          "base_uri": "https://localhost:8080/"
        },
        "outputId": "5e5e5121-ac4e-41a1-c0d2-6c775b36e210"
      },
      "outputs": [
        {
          "output_type": "stream",
          "name": "stderr",
          "text": [
            "/usr/local/lib/python3.8/dist-packages/scipy/integrate/odepack.py:247: ODEintWarning: Excess work done on this call (perhaps wrong Dfun type). Run with full_output = 1 to get quantitative information.\n",
            "  warnings.warn(warning_msg, ODEintWarning)\n"
          ]
        }
      ],
      "source": [
        "\n",
        "#################################\n",
        "# parameter estimation 30 times #  \n",
        "# with random start parameters  #\n",
        "################################# \n",
        "\n",
        "for i in range(30):\n",
        "    popt, pcov = curve_fit(ModelPrediction, t_data, \n",
        "                       y_data, bounds=(0,np.inf),\n",
        "                       p0 = np.random.rand(3))    \n",
        "     \n",
        "###########################################\n",
        "# Collect the inferred optimal parameters #  \n",
        "###########################################  \n",
        "    c2_par.append(popt[0]) \n",
        "    c4_par.append(popt[1])  \n",
        "    c5_par.append(popt[2])  \n",
        "  "
      ]
    },
    {
      "cell_type": "code",
      "source": [],
      "metadata": {
        "id": "6xHyQ7urbPE0"
      },
      "id": "6xHyQ7urbPE0",
      "execution_count": 7,
      "outputs": []
    },
    {
      "cell_type": "code",
      "source": [
        "# python 3.x\n",
        "import numpy as np\n",
        "from sklearn import preprocessing\n",
        "scaler = preprocessing.MinMaxScaler()\n",
        "normalized_c2 =scaler.fit_transform(np.array(c2_par).reshape(-1,1)).reshape(1,30)\n",
        "normalized_c4 =scaler.fit_transform(np.array(c4_par).reshape(-1,1)).reshape(1,30)\n",
        "normalized_c5 =scaler.fit_transform(np.array(c5_par).reshape(-1,1)).reshape(1,30)"
      ],
      "metadata": {
        "id": "JSLonNMJanKt"
      },
      "id": "JSLonNMJanKt",
      "execution_count": 8,
      "outputs": []
    },
    {
      "cell_type": "code",
      "source": [
        "opt = {'C2':c2_par,'C4':c4_par,'C5':c5_par}\n",
        "data = pd.DataFrame(opt) \n",
        "    \n",
        "sns.set_style('white')\n",
        "sns.boxplot(data=data, palette='flare')\n",
        "sns.despine()\n",
        "plt.show()"
      ],
      "metadata": {
        "colab": {
          "base_uri": "https://localhost:8080/",
          "height": 269
        },
        "id": "At2javk9q3AN",
        "outputId": "98924c71-563f-486b-cff8-da4996ad522b"
      },
      "id": "At2javk9q3AN",
      "execution_count": 9,
      "outputs": [
        {
          "output_type": "display_data",
          "data": {
            "text/plain": [
              "<Figure size 432x288 with 1 Axes>"
            ],
            "image/png": "[encoded data removed]"
          },
          "metadata": {}
        }
      ]
    },
    {
      "cell_type": "code",
      "execution_count": 10,
      "id": "894e2bee",
      "metadata": {
        "colab": {
          "base_uri": "https://localhost:8080/",
          "height": 265
        },
        "id": "894e2bee",
        "outputId": "cdfb1b4f-53e8-4d75-a3f6-67a60364a3e0"
      },
      "outputs": [
        {
          "output_type": "display_data",
          "data": {
            "text/plain": [
              "<Figure size 432x288 with 1 Axes>"
            ],
            "image/png": "[encoded data removed]"
          },
          "metadata": {}
        }
      ],
      "source": [
        "opt = {'C2':normalized_c2[0],'C4':normalized_c4[0],'C5':normalized_c5[0]}\n",
        "data = pd.DataFrame(opt) \n",
        "    \n",
        "sns.set_style('white')\n",
        "sns.boxplot(data=data, palette='flare')\n",
        "sns.despine()\n",
        "plt.show()"
      ]
    },
    {
      "cell_type": "code",
      "execution_count": 11,
      "id": "2181b897",
      "metadata": {
        "colab": {
          "base_uri": "https://localhost:8080/",
          "height": 283
        },
        "id": "2181b897",
        "outputId": "da3903c9-8a9a-4e37-da23-71d377f8e1d0"
      },
      "outputs": [
        {
          "output_type": "execute_result",
          "data": {
            "text/plain": [
              "<matplotlib.axes._subplots.AxesSubplot at 0x7f9152eafdf0>"
            ]
          },
          "metadata": {},
          "execution_count": 11
        },
        {
          "output_type": "display_data",
          "data": {
            "text/plain": [
              "<Figure size 432x288 with 1 Axes>"
            ],
            "image/png": "[encoded data removed]"
          },
          "metadata": {}
        }
      ],
      "source": [
        "import seaborn as sns\n",
        "sns.set_style('white')\n",
        "sns.kdeplot(data=data, palette='flare')"
      ]
    },
    {
      "cell_type": "code",
      "source": [],
      "metadata": {
        "id": "wNzUfuImmAkR"
      },
      "id": "wNzUfuImmAkR",
      "execution_count": 11,
      "outputs": []
    }
  ],
  "metadata": {
    "kernelspec": {
      "display_name": "Python 3 (ipykernel)",
      "language": "python",
      "name": "python3"
    },
    "language_info": {
      "codemirror_mode": {
        "name": "ipython",
        "version": 3
      },
      "file_extension": ".py",
      "mimetype": "text/x-python",
      "name": "python",
      "nbconvert_exporter": "python",
      "pygments_lexer": "ipython3",
      "version": "3.9.13"
    },
    "colab": {
      "provenance": []
    }
  },
  "nbformat": 4,
  "nbformat_minor": 5
}