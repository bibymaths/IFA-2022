{
 "cells": [
  {
   "cell_type": "code",
   "execution_count": 1,
   "id": "13a8278d",
   "metadata": {},
   "outputs": [],
   "source": [
    "#Group 7 BrenningmeyerHerkenrathMishra"
   ]
  },
  {
   "cell_type": "code",
   "execution_count": 2,
   "id": "21ff1686",
   "metadata": {},
   "outputs": [],
   "source": [
    "import numpy as np\n",
    "import matplotlib.pyplot as plt"
   ]
  },
  {
   "cell_type": "code",
   "execution_count": 3,
   "id": "69f1258a",
   "metadata": {},
   "outputs": [],
   "source": [
    "def ReactionRates(r,X):\n",
    "        R = np.zeros((4,1))\n",
    "        R[0] = r[0]\n",
    "        R[1] = r[1]*X[0]\n",
    "        R[2] = r[2]*X[0]*X[2]\n",
    "        R[3] = r[3]*X[1]\n",
    "        R[4] = r[4]*X[1]\n",
    "        R[5] = r[5]*X[2]\n",
    "        return R[:,0]"
   ]
  },
  {
   "cell_type": "code",
   "execution_count": 4,
   "id": "d5a22bef",
   "metadata": {},
   "outputs": [
    {
     "name": "stdout",
     "output_type": "stream",
     "text": [
      "[ 0.   0.5  1.   1.5  2.   2.5  3.   3.5  4.   4.5  5.   5.5  6.   6.5\n",
      "  7.   7.5  8.   8.5  9.   9.5 10. ]\n",
      "[  18.77820809   49.7870446   790.47121748 2319.52125822 1672.42748726\n",
      " 1496.9055885  1153.46416351  850.42392024 1082.9824603   679.71679033\n",
      "  452.55356816  553.01483385  546.2234647   315.55576672  479.59435354\n",
      "  476.2916805   479.97009311  488.58366905  486.22514615  582.62533495\n",
      "  343.3053144 ]\n"
     ]
    }
   ],
   "source": [
    "t_data, y_data = np.load('Data.npy')\n",
    "\n",
    "print(t_data) #timepoints\n",
    "print(y_data) #virus concentration\n"
   ]
  },
  {
   "cell_type": "code",
   "execution_count": 8,
   "id": "a1fedff0",
   "metadata": {},
   "outputs": [],
   "source": [
    "# Stoichiometric matrix\n",
    "s = np.array([[1,0,0],[-1,0,0],[-1,1,-1],[0,-1,0],[0,0,1],[0,0,-1]])\n",
    "\n",
    "# Reaction parameters\n",
    "k0 = 100\n",
    "k1 = 0.1\n",
    "c2 =1 #change to unknown parameters\n",
    "c3 =1 #change to unknown parameters\n",
    "c4 =1 #change to unknown parameters\n",
    "c5 =1 #change to unknown parameters\n",
    "\n",
    "#initial\n",
    "X0 = [k0/k1, 0, 20]\n",
    "\n",
    "#list of parameters \n",
    "r = [k0, k1*X0[1], c2*X0[0]*X0[2], c3*X0[1], c4*X0[1], c5*X0[2]]"
   ]
  },
  {
   "cell_type": "code",
   "execution_count": 7,
   "id": "2e36cbe7",
   "metadata": {},
   "outputs": [
    {
     "name": "stdout",
     "output_type": "stream",
     "text": [
      "[[ 1  0  0]\n",
      " [-1  0  0]\n",
      " [-1  1 -1]\n",
      " [ 0 -1  0]\n",
      " [ 0  0  1]\n",
      " [ 0  0 -1]]\n"
     ]
    }
   ],
   "source": [
    "print(s)"
   ]
  },
  {
   "cell_type": "code",
   "execution_count": null,
   "id": "ebb44ad7",
   "metadata": {},
   "outputs": [],
   "source": []
  },
  {
   "cell_type": "code",
   "execution_count": null,
   "id": "3815cb17",
   "metadata": {},
   "outputs": [],
   "source": []
  }
 ],
 "metadata": {
  "kernelspec": {
   "display_name": "Python 3 (ipykernel)",
   "language": "python",
   "name": "python3"
  },
  "language_info": {
   "codemirror_mode": {
    "name": "ipython",
    "version": 3
   },
   "file_extension": ".py",
   "mimetype": "text/x-python",
   "name": "python",
   "nbconvert_exporter": "python",
   "pygments_lexer": "ipython3",
   "version": "3.9.13"
  }
 },
 "nbformat": 4,
 "nbformat_minor": 5
}
