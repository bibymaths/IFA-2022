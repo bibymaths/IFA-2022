{
 "cells": [
  {
   "cell_type": "code",
   "execution_count": 1,
   "id": "fe4d0fe9",
   "metadata": {},
   "outputs": [],
   "source": [
    "#Group 7 BrenningmeyerHerkenrathMishra"
   ]
  },
  {
   "cell_type": "code",
   "execution_count": 2,
   "id": "32885b8b",
   "metadata": {},
   "outputs": [],
   "source": [
    "import numpy as np\n",
    "import matplotlib.pyplot as plt"
   ]
  },
  {
   "cell_type": "code",
   "execution_count": 3,
   "id": "1bd3a841",
   "metadata": {},
   "outputs": [],
   "source": [
    "def ReactionRates(k,X):\n",
    "        R = np.zeros((2,1))\n",
    "        R[0] = k[0]*X[0]\n",
    "        R[1] = k[1]*X[1]\n",
    "        return R[:,0]"
   ]
  },
  {
   "cell_type": "code",
   "execution_count": 4,
   "id": "a1fe0eac",
   "metadata": {},
   "outputs": [],
   "source": [
    "# Reaction parameters\n",
    "k_a = 0.5 #describing the uptake of the drug from the body, unit mg/L\n",
    "k_e = 0.3 #describing the elimination of the drug from the body, unit mg/L\n",
    "\n",
    "k = [k_a,k_e]"
   ]
  },
  {
   "cell_type": "code",
   "execution_count": 5,
   "id": "bf87d5c2",
   "metadata": {},
   "outputs": [],
   "source": [
    "# Initial state\n",
    "x_0 = [200,0]\n",
    "V = 1 #liter\n"
   ]
  },
  {
   "cell_type": "code",
   "execution_count": 6,
   "id": "25683b3f",
   "metadata": {},
   "outputs": [],
   "source": [
    "#other needed values\n",
    "t_final = 24+1 # from 0 till 24\n",
    "tau = 1\n",
    "Input_file = np.loadtxt('Input2.txt')\n",
    "np.random.seed(seed=int(Input_file))\n",
    "\n",
    "# Stoichiometric matrix\n",
    "s = np.array([[-1,0],[1,-1]])"
   ]
  },
  {
   "cell_type": "code",
   "execution_count": 7,
   "id": "8593cb57",
   "metadata": {},
   "outputs": [],
   "source": [
    "def ssa(s, k, x_0, tFinal):\n",
    "    # initialize lists\n",
    "    states = []\n",
    "    x = x_0\n",
    "    #states.append(x[1])\n",
    "    timepoints = np.arange(0,tFinal,1)\n",
    "    \n",
    "    for time in timepoints:\n",
    "        states.append(x[1])\n",
    "        # When?\n",
    "        R = ReactionRates(k,x)\n",
    "        lambdaVar = np.sum(R)\n",
    "        u1 = np.random.random()\n",
    "\n",
    "        # What reaction happens\n",
    "        factor = 1/lambdaVar\n",
    "        if u1 <= R[0]*factor:\n",
    "            x += s[:,0]*R[0]\n",
    "        else:\n",
    "            x += s[:,1]*R[1]  \n",
    "\n",
    "    return timepoints, states\n"
   ]
  },
  {
   "cell_type": "code",
   "execution_count": 8,
   "id": "9b25c056",
   "metadata": {},
   "outputs": [
    {
     "name": "stdout",
     "output_type": "stream",
     "text": [
      "time\n",
      "[ 0  1  2  3  4  5  6  7  8  9 10 11 12 13 14 15 16 17 18 19 20 21 22 23\n",
      " 24]\n",
      "25\n",
      "states\n",
      "[0, 100.0, 70.0, 120.0, 84.0, 58.8, 41.16, 66.16, 78.66, 84.91, 59.437, 62.562, 43.7934, 30.65538, 21.458766, 15.0211362, 10.514795340000001, 12.077295340000001, 8.454106738, 5.9178747166, 4.14251230162, 4.92376230162, 3.446633611134, 2.4126435277938, 2.8032685277938]\n",
      "25\n"
     ]
    }
   ],
   "source": [
    "times, states = ssa(s, k, x_0, t_final)\n",
    "print('time')\n",
    "print(times)\n",
    "print(len(times))\n",
    "print('states')\n",
    "print(states)\n",
    "print(len(states))"
   ]
  },
  {
   "cell_type": "code",
   "execution_count": 9,
   "id": "20174a8f",
   "metadata": {},
   "outputs": [],
   "source": [
    "output = np.concatenate((np.array(times,ndmin=2),np.array(states,ndmin=2)), axis=0)\n",
    "\n",
    "np.savetxt(' Task2aTraj.txt',output,delimiter = ',',fmt='%1.2f')"
   ]
  },
  {
   "cell_type": "code",
   "execution_count": null,
   "id": "f0846689",
   "metadata": {},
   "outputs": [],
   "source": []
  },
  {
   "cell_type": "code",
   "execution_count": null,
   "id": "e5f92613",
   "metadata": {},
   "outputs": [],
   "source": []
  }
 ],
 "metadata": {
  "kernelspec": {
   "display_name": "Python 3 (ipykernel)",
   "language": "python",
   "name": "python3"
  },
  "language_info": {
   "codemirror_mode": {
    "name": "ipython",
    "version": 3
   },
   "file_extension": ".py",
   "mimetype": "text/x-python",
   "name": "python",
   "nbconvert_exporter": "python",
   "pygments_lexer": "ipython3",
   "version": "3.9.13"
  }
 },
 "nbformat": 4,
 "nbformat_minor": 5
}
