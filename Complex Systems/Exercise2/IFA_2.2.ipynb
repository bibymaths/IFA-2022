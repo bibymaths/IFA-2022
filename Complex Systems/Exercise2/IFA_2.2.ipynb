{
 "cells": [
  {
   "cell_type": "code",
   "execution_count": 1,
   "id": "9df55ede",
   "metadata": {},
   "outputs": [],
   "source": [
    "import numpy as np"
   ]
  },
  {
   "cell_type": "code",
   "execution_count": 2,
   "id": "e2b06976",
   "metadata": {},
   "outputs": [],
   "source": [
    "def ssa(s, k, x_0, tFinal):\n",
    "    # initialize lists\n",
    "    times = []\n",
    "    states = []\n",
    "    t = 0.0\n",
    "    x = x_0\n",
    "    times.append(t)\n",
    "    states.append(x)\n",
    "\n",
    "    while t <= tFinal:\n",
    "        # When?  \n",
    "        R = ReactionRates(k,x)\n",
    "        lambdaVar = np.sum(R)\n",
    "        u1 = np.random.random()\n",
    "\n",
    "        # make sure we don't divide by zero\n",
    "        while u1 == 0:\n",
    "            u1 = np.random.random()\n",
    "\n",
    "        tau = (1/lambdaVar) * np.log(1/u1)      \n",
    "\n",
    "        # End time reached\n",
    "        if t + tau > tFinal:\n",
    "            t = tFinal\n",
    "            break\n",
    "        \n",
    "        # Update time\n",
    "        t += tau\n",
    "\n",
    "        # What reaction happens\n",
    "        goal = lambdaVar * np.random.random()\n",
    "        currentSum = 0\n",
    "        j = 0\n",
    "        for i, rate in enumerate(R):\n",
    "            currentSum+= rate\n",
    "            if(currentSum > goal):\n",
    "                j = i\n",
    "                break\n",
    "            j = i\n",
    "\n",
    "        # Update states\n",
    "        x += s[j]\n",
    "        times.append(t)\n",
    "        states.append(x)\n",
    "\n",
    "    return times, states"
   ]
  },
  {
   "cell_type": "code",
   "execution_count": 3,
   "id": "13313e3f",
   "metadata": {},
   "outputs": [],
   "source": [
    "\n",
    "def ReactionRates(k,x):\n",
    "        R = np.zeros((4,1))\n",
    "        R[0] = k[0]*x*(x-1)\n",
    "        R[1] = k[1]*x*(x-1)*(x-2)\n",
    "        R[2] = k[2]\n",
    "        R[3] = k[3]*x\n",
    "        return R"
   ]
  },
  {
   "cell_type": "code",
   "execution_count": 4,
   "id": "0bf1cd49",
   "metadata": {},
   "outputs": [],
   "source": [
    "inputFile = np.loadtxt('Input.txt')\n",
    "np.random.seed(seed=int(inputFile[0]))\n",
    "nrSimulations = int(inputFile[1])\n",
    "\n",
    "# Stoichiometric matrix\n",
    "s = [1,-1,1,-1]\n",
    "\n",
    "# Reaction parameters\n",
    "k = [0.15, 0.0015, 20.0, 3.5]\n",
    "\n",
    "# Initial state\n",
    "x_0 = 40\n",
    "tFinal = 5"
   ]
  },
  {
   "cell_type": "code",
   "execution_count": 5,
   "id": "8a5bb8b7",
   "metadata": {},
   "outputs": [],
   "source": [
    "for i in range(nrSimulations):\n",
    "    states, times = ssa(s, k, x_0, tFinal)\n",
    "    output = np.concatenate((np.array(states,ndmin=2),np.array(times,ndmin=2)), axis=0)\n",
    "    \n",
    "    np.savetxt('Task2Traj'+str(i+1)+'.txt',output,delimiter = ',',fmt='%1.3f')"
   ]
  },
  {
   "cell_type": "markdown",
   "id": "cb7ed594",
   "metadata": {},
   "source": [
    "# in class"
   ]
  },
  {
   "cell_type": "code",
   "execution_count": 6,
   "id": "8949e604",
   "metadata": {},
   "outputs": [],
   "source": [
    "nrSimulations = 200\n",
    "tFinal = 5\n",
    "X1=[]\n",
    "for i in range(nrSimulations):\n",
    "    states, times = ssa(s, k, x_0, tFinal)\n",
    "    output = np.concatenate((np.array(states,ndmin=2),np.array(times,ndmin=2)), axis=0)\n",
    "    X1.append(output[-1][-1])"
   ]
  },
  {
   "cell_type": "code",
   "execution_count": 13,
   "id": "3160293a",
   "metadata": {},
   "outputs": [],
   "source": [
    "expectation = sum(X1)/len(X1)"
   ]
  },
  {
   "cell_type": "code",
   "execution_count": 14,
   "id": "6e04303f",
   "metadata": {},
   "outputs": [
    {
     "data": {
      "text/plain": [
       "<matplotlib.lines.Line2D at 0x1fe7d881430>"
      ]
     },
     "execution_count": 14,
     "metadata": {},
     "output_type": "execute_result"
    },
    {
     "data": {
      "image/png": "[encoded data removed]",
      "text/plain": [
       "<Figure size 640x480 with 1 Axes>"
      ]
     },
     "metadata": {},
     "output_type": "display_data"
    }
   ],
   "source": [
    "import matplotlib.pyplot as plt\n",
    "\n",
    "plt.hist(X1)\n",
    "\n",
    "plt.axvline(expectation, color='k', linestyle='dashed', linewidth=1)"
   ]
  },
  {
   "cell_type": "markdown",
   "id": "953f2df8",
   "metadata": {},
   "source": [
    "# Is the sample expectation a good statistic to describe the distribution of x1 for this model?"
   ]
  },
  {
   "cell_type": "code",
   "execution_count": null,
   "id": "5781db83",
   "metadata": {},
   "outputs": [],
   "source": []
  }
 ],
 "metadata": {
  "kernelspec": {
   "display_name": "Python 3 (ipykernel)",
   "language": "python",
   "name": "python3"
  },
  "language_info": {
   "codemirror_mode": {
    "name": "ipython",
    "version": 3
   },
   "file_extension": ".py",
   "mimetype": "text/x-python",
   "name": "python",
   "nbconvert_exporter": "python",
   "pygments_lexer": "ipython3",
   "version": "3.9.13"
  }
 },
 "nbformat": 4,
 "nbformat_minor": 5
}
