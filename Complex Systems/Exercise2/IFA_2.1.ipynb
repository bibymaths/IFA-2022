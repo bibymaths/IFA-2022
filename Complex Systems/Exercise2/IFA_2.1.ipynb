{
 "cells": [
  {
   "cell_type": "code",
   "execution_count": 1,
   "id": "6ed2fcf2",
   "metadata": {},
   "outputs": [],
   "source": [
    "import numpy as np"
   ]
  },
  {
   "cell_type": "code",
   "execution_count": 2,
   "id": "5815fdac",
   "metadata": {},
   "outputs": [],
   "source": [
    "def ssa(s, k, x_0, tFinal):\n",
    "    # initialize lists\n",
    "    times = []\n",
    "    states = []\n",
    "    t = 0.0\n",
    "    x = x_0\n",
    "    times.append(t)\n",
    "    states.append(x[1])\n",
    "\n",
    "    while t <= tFinal:\n",
    "        # When?  \n",
    "        R = ReactionRates(k,x)\n",
    "        lambdaVar = np.sum(R)\n",
    "\n",
    "        # make sure we don't divide by zero\n",
    "        u1 = np.random.random()\n",
    "        while u1 == 0:\n",
    "            u1 = np.random.random()\n",
    "        tau = (1/lambdaVar) * np.log(1/u1)      \n",
    "\n",
    "        # End time reached\n",
    "        if t + tau > tFinal:\n",
    "            t = tFinal\n",
    "            break\n",
    "        \n",
    "        # Update time\n",
    "        t += tau\n",
    "\n",
    "        # What reaction happens\n",
    "        goal = lambdaVar * np.random.random()\n",
    "        currentSum = 0\n",
    "        j = 0\n",
    "        for i, rate in enumerate(R):\n",
    "            currentSum+= rate\n",
    "            if(currentSum > goal):\n",
    "                j = i\n",
    "                break\n",
    "            j = i\n",
    "\n",
    "        # Update states\n",
    "        x += s[:,j]\n",
    "        times.append(t)\n",
    "        states.append(x[1])\n",
    "\n",
    "    return times, states"
   ]
  },
  {
   "cell_type": "code",
   "execution_count": 3,
   "id": "f880db83",
   "metadata": {},
   "outputs": [],
   "source": [
    "def ReactionRates(k,X):\n",
    "        R = np.zeros((6,1))\n",
    "        R[0] = k[0]\n",
    "        R[1] = k[1]*X[0]\n",
    "        R[2] = k[2]*X[0]*X[1]\n",
    "        R[3] = k[1]*X[1]*(3*10**7)\n",
    "        R[4] = k[3]*X[1]\n",
    "        R[5] = k[1]*X[2]\n",
    "        return R"
   ]
  },
  {
   "cell_type": "code",
   "execution_count": 4,
   "id": "8b78c1f6",
   "metadata": {},
   "outputs": [],
   "source": [
    "inputFile = np.loadtxt('Input.txt')\n",
    "np.random.seed(seed=int(inputFile[0]))\n",
    "nrSimulations = int(inputFile[1])"
   ]
  },
  {
   "cell_type": "code",
   "execution_count": 5,
   "id": "952ed127",
   "metadata": {},
   "outputs": [],
   "source": [
    "# Stoichiometric matrix\n",
    "s = np.array([[1,-1,-1,0,0,0],[0,0,1,-1,-1,0],[0,0,0,0,1,-1],[0,0,0,1,0,0]])\n",
    "\n",
    "# Reaction parameters\n",
    "lamda = 1*10**(-4)\n",
    "delta = 1*10**(-8)\n",
    "beta = 5*10**(-5)\n",
    "kr = 0.3\n",
    "\n",
    "k = [lamda, delta, beta, kr]"
   ]
  },
  {
   "cell_type": "code",
   "execution_count": 6,
   "id": "e0e8c39e",
   "metadata": {},
   "outputs": [],
   "source": [
    "# Initial state\n",
    "x_0 =[lamda/delta, 20, 0, 0]\n",
    "tFinal = 10"
   ]
  },
  {
   "cell_type": "code",
   "execution_count": 7,
   "id": "d5e9bbdb",
   "metadata": {},
   "outputs": [],
   "source": [
    "for i in range(nrSimulations):\n",
    "    states, times = ssa(s, k, x_0, tFinal)\n",
    "    output = np.concatenate((np.array(states,ndmin=2),np.array(times,ndmin=2)), axis=0)\n",
    "    \n",
    "    np.savetxt('Task1Traj'+str(i+1)+'.txt',output,delimiter = ',',fmt='%1.3f')"
   ]
  },
  {
   "cell_type": "markdown",
   "id": "d8326e8f",
   "metadata": {},
   "source": [
    "# in class"
   ]
  },
  {
   "cell_type": "markdown",
   "id": "5855512f",
   "metadata": {},
   "source": [
    "# X2"
   ]
  },
  {
   "cell_type": "code",
   "execution_count": 8,
   "id": "2492690d",
   "metadata": {},
   "outputs": [],
   "source": [
    "# Initial state\n",
    "x_0 =[lamda/delta, 2, 0, 0]\n",
    "tFinal = 10"
   ]
  },
  {
   "cell_type": "code",
   "execution_count": 9,
   "id": "5267363e",
   "metadata": {},
   "outputs": [],
   "source": [
    "nrSimulations=1000\n",
    "X2=[]\n",
    "for i in range(nrSimulations):\n",
    "    states, times = ssa(s, k, x_0, tFinal)\n",
    "    output = np.concatenate((np.array(states,ndmin=2),np.array(times,ndmin=2)), axis=0)\n",
    "    X2.append(output[-1][-1])\n",
    "    "
   ]
  },
  {
   "cell_type": "code",
   "execution_count": 10,
   "id": "e28bc31a",
   "metadata": {},
   "outputs": [
    {
     "data": {
      "text/plain": [
       "(array([905.,  51.,  22.,   9.,   7.,   3.,   1.,   0.,   0.,   2.]),\n",
       " array([ 0. ,  2.7,  5.4,  8.1, 10.8, 13.5, 16.2, 18.9, 21.6, 24.3, 27. ]),\n",
       " <BarContainer object of 10 artists>)"
      ]
     },
     "execution_count": 10,
     "metadata": {},
     "output_type": "execute_result"
    },
    {
     "data": {
      "image/png": "[encoded data removed]",
      "text/plain": [
       "<Figure size 640x480 with 1 Axes>"
      ]
     },
     "metadata": {},
     "output_type": "display_data"
    }
   ],
   "source": [
    "import matplotlib.pyplot as plt\n",
    "\n",
    "plt.hist(X2)"
   ]
  },
  {
   "cell_type": "code",
   "execution_count": 13,
   "id": "d0916ce3",
   "metadata": {},
   "outputs": [
    {
     "name": "stdout",
     "output_type": "stream",
     "text": [
      "Probability  that 0,. . . , 20 individuals are infected by T = 10 is 99.8\n"
     ]
    }
   ],
   "source": [
    "count=0\n",
    "for i in range(len(X2)):\n",
    "    if X2[i]<=20:\n",
    "        count+=1\n",
    "probability_20 = count/len(X2)*100\n",
    "print(\"Probability  that 0,. . . , 20 individuals are infected by T = 10 is \"+ str(probability_20))\n"
   ]
  },
  {
   "cell_type": "code",
   "execution_count": 16,
   "id": "64163f0a",
   "metadata": {},
   "outputs": [
    {
     "name": "stdout",
     "output_type": "stream",
     "text": [
      "Probability  that the infection is still ongoing at T = 10 is 15.299999999999997\n"
     ]
    }
   ],
   "source": [
    "count=0\n",
    "for i in range(len(X2)):\n",
    "    if X2[i]==0:\n",
    "        count+=1\n",
    "probability_0 = count/len(X2)*100\n",
    "print(\"Probability  that the infection is still ongoing at T = 10 is \"+ str(100-probability_0))"
   ]
  },
  {
   "cell_type": "markdown",
   "id": "673c6eb5",
   "metadata": {},
   "source": [
    "# X4"
   ]
  },
  {
   "cell_type": "code",
   "execution_count": 17,
   "id": "dd2800ad",
   "metadata": {},
   "outputs": [],
   "source": [
    "def ssa_X4(s, k, x_0, tFinal):\n",
    "    # initialize lists\n",
    "    times = []\n",
    "    states = []\n",
    "    t = 0.0\n",
    "    x = x_0\n",
    "    times.append(t)\n",
    "    states.append(x[3])\n",
    "\n",
    "    while t <= tFinal:\n",
    "        # When?  \n",
    "        R = ReactionRates(k,x)\n",
    "        lambdaVar = np.sum(R)\n",
    "\n",
    "        # make sure we don't divide by zero\n",
    "        u1 = np.random.random()\n",
    "        while u1 == 0:\n",
    "            u1 = np.random.random()\n",
    "        tau = (1/lambdaVar) * np.log(1/u1)      \n",
    "\n",
    "        # End time reached\n",
    "        if t + tau > tFinal:\n",
    "            t = tFinal\n",
    "            break\n",
    "        \n",
    "        # Update time\n",
    "        t += tau\n",
    "\n",
    "        # What reaction happens\n",
    "        goal = lambdaVar * np.random.random()\n",
    "        currentSum = 0\n",
    "        j = 0\n",
    "        for i, rate in enumerate(R):\n",
    "            currentSum+= rate\n",
    "            if(currentSum > goal):\n",
    "                j = i\n",
    "                break\n",
    "            j = i\n",
    "\n",
    "        # Update states\n",
    "        x += s[:,j]\n",
    "        times.append(t)\n",
    "        states.append(x[3])\n",
    "\n",
    "    return times, states"
   ]
  },
  {
   "cell_type": "code",
   "execution_count": 18,
   "id": "add45249",
   "metadata": {},
   "outputs": [],
   "source": [
    "nrSimulations=1000\n",
    "X4=[]\n",
    "for i in range(nrSimulations):\n",
    "    states, times = ssa_X4(s, k, x_0, tFinal)\n",
    "    output = np.concatenate((np.array(states,ndmin=2),np.array(times,ndmin=2)), axis=0)\n",
    "    X4.append(output[-1][-1])"
   ]
  },
  {
   "cell_type": "code",
   "execution_count": 19,
   "id": "955014ba",
   "metadata": {},
   "outputs": [
    {
     "data": {
      "text/plain": [
       "(array([735., 134.,  78.,  26.,  15.,   7.,   0.,   4.,   0.,   1.]),\n",
       " array([ 0. ,  4.2,  8.4, 12.6, 16.8, 21. , 25.2, 29.4, 33.6, 37.8, 42. ]),\n",
       " <BarContainer object of 10 artists>)"
      ]
     },
     "execution_count": 19,
     "metadata": {},
     "output_type": "execute_result"
    },
    {
     "data": {
      "image/png": "[encoded data removed]",
      "text/plain": [
       "<Figure size 640x480 with 1 Axes>"
      ]
     },
     "metadata": {},
     "output_type": "display_data"
    }
   ],
   "source": [
    "plt.hist(X4)"
   ]
  },
  {
   "cell_type": "code",
   "execution_count": 20,
   "id": "842c4a67",
   "metadata": {},
   "outputs": [
    {
     "name": "stdout",
     "output_type": "stream",
     "text": [
      "Probability  that 0,. . . , 35 individuals died  by T = 10 is 99.9\n"
     ]
    }
   ],
   "source": [
    "count=0\n",
    "for i in range(len(X2)):\n",
    "    if X4[i]<=35:\n",
    "        count+=1\n",
    "probability_35 = count/len(X4)*100\n",
    "print(\"Probability  that 0,. . . , 35 individuals died  by T = 10 is \"+ str(probability_35))\n"
   ]
  },
  {
   "cell_type": "code",
   "execution_count": 22,
   "id": "0f155670",
   "metadata": {},
   "outputs": [
    {
     "name": "stdout",
     "output_type": "stream",
     "text": [
      "3.848 y individuals died on average\n"
     ]
    }
   ],
   "source": [
    "print(str(sum(X4)/len(X4))+ \" y individuals died on average\")"
   ]
  },
  {
   "cell_type": "code",
   "execution_count": 23,
   "id": "bcc34df1",
   "metadata": {},
   "outputs": [
    {
     "data": {
      "text/plain": [
       "4.616589217160219"
      ]
     },
     "execution_count": 23,
     "metadata": {},
     "output_type": "execute_result"
    }
   ],
   "source": [
    "#standard deviation ???\n",
    "np.std(X4)"
   ]
  },
  {
   "cell_type": "code",
   "execution_count": null,
   "id": "492466a7",
   "metadata": {},
   "outputs": [],
   "source": []
  }
 ],
 "metadata": {
  "kernelspec": {
   "display_name": "Python 3 (ipykernel)",
   "language": "python",
   "name": "python3"
  },
  "language_info": {
   "codemirror_mode": {
    "name": "ipython",
    "version": 3
   },
   "file_extension": ".py",
   "mimetype": "text/x-python",
   "name": "python",
   "nbconvert_exporter": "python",
   "pygments_lexer": "ipython3",
   "version": "3.9.13"
  }
 },
 "nbformat": 4,
 "nbformat_minor": 5
}
